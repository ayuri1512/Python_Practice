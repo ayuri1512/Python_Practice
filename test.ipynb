{
  "nbformat": 4,
  "nbformat_minor": 0,
  "metadata": {
    "colab": {
      "provenance": [],
      "authorship_tag": "ABX9TyN8GjSka1Ntqa9q324HAky0"
    },
    "kernelspec": {
      "name": "python3",
      "display_name": "Python 3"
    },
    "language_info": {
      "name": "python"
    }
  },
  "cells": [
    {
      "cell_type": "code",
      "execution_count": 1,
      "metadata": {
        "colab": {
          "base_uri": "https://localhost:8080/"
        },
        "id": "3BMzi2defHeC",
        "outputId": "22a0f912-3dc7-458d-c2a3-46558123171b"
      },
      "outputs": [
        {
          "output_type": "stream",
          "name": "stdout",
          "text": [
            "HELLO World\n"
          ]
        }
      ],
      "source": [
        "print(\"HELLO World\")"
      ]
    },
    {
      "cell_type": "code",
      "source": [],
      "metadata": {
        "id": "M7MICfYffPg0"
      },
      "execution_count": null,
      "outputs": []
    }
  ]
}